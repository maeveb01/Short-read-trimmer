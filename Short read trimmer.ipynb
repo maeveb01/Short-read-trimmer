{
 "cells": [
  {
   "cell_type": "markdown",
   "metadata": {},
   "source": [
    "# Python script that acts as a short-read trimmer"
   ]
  },
  {
   "cell_type": "markdown",
   "metadata": {},
   "source": [
    "#### Reads in file with multiple Fasta sequences\n",
    "#### Removes  last 5 nucleotides from sequence string (but not header)\n",
    "#### Prints headers and trimmed sequences back to the screen\n",
    "#### Each sequence is fully contained in one line.\n",
    "\n",
    "Input:\n",
    "\n",
    ">SRR1528876.srr.1 HISEQ:68:C4CMYACXX:8:1101:1432:2120\n",
    "TATTTTCTATACCTATAAACTTAAATGTATCATAATTCATAATACAATAAT\n",
    ">SRR1528876.srr.2 HISEQ:68:C4CMYACXX:8:1101:1468:2172\n",
    "GGCCTTCAATTGCAGAAGTTTTTGAAGGGAGAATATTTGATCCTCACATAA\n",
    ">SRR1528876.srr.7 HISEQ:68:C4CMYACXX:8:1101:1894:2091\n",
    "GGGTCTTCAAACCGTTCCACACACCAGTGTAATGTGTCTGTTCACCAATCT\n",
    "\n",
    "Output:\n",
    "\n",
    ">SRR1528876.srr.1 HISEQ:68:C4CMYACXX:8:1101:1432:2120\n",
    "TATTTTCTATACCTATAAACTTAAATGTATCATAATTCATAATACA\n",
    ">SRR1528876.srr.2 HISEQ:68:C4CMYACXX:8:1101:1468:2172\n",
    "GGCCTTCAATTGCAGAAGTTTTTGAAGGGAGAATATTTGATCCTCA\n",
    ">SRR1528876.srr.7 HISEQ:68:C4CMYACXX:8:1101:1894:2091\n",
    "GGGTCTTCAAACCGTTCCACACACCAGTGTAATGTGTCTGTTCACC\n",
    "\n",
    "#### use the file 'short_reads.fa'"
   ]
  },
  {
   "cell_type": "code",
   "execution_count": 43,
   "metadata": {},
   "outputs": [
    {
     "name": "stdout",
     "output_type": "stream",
     "text": [
      ">SRR1528876.srr.1 HISEQ:68:C4CMYACXX:8:1101:1432:2120\n",
      "TATTTTCTATACCTATAAACTTAAATGTATCATAATTCATAATACA\n",
      ">SRR1528876.srr.2 HISEQ:68:C4CMYACXX:8:1101:1468:2172\n",
      "GGCCTTCAATTGCAGAAGTTTTTGAAGGGAGAATATTTGATCCTCA\n",
      ">SRR1528876.srr.7 HISEQ:68:C4CMYACXX:8:1101:1894:2091\n",
      "GGGTCTTCAAACCGTTCCACACACCAGTGTAATGTGTCTGTTCACC\n"
     ]
    }
   ],
   "source": [
    "file = 'short_reads.fa'\n",
    "f = open(file, 'r')\n",
    "\n",
    "line = \"\"\n",
    "header = f.readline()[:-1]\n",
    "\n",
    "while True:\n",
    "    text = f.readline()\n",
    "    \n",
    "    if text.startswith('>'):\n",
    "        final = line[:-5]\n",
    "        print (header)\n",
    "        print (final)\n",
    "        header = text[:-1]\n",
    "        line = \"\"\n",
    "    if not text.startswith('>'):\n",
    "        line = line + text[:-1]\n",
    "    if text == '':\n",
    "        final = line[:-4]\n",
    "        print (header)\n",
    "        print (final)\n",
    "        break\n",
    "        "
   ]
  },
  {
   "cell_type": "code",
   "execution_count": null,
   "metadata": {},
   "outputs": [],
   "source": []
  },
  {
   "cell_type": "code",
   "execution_count": null,
   "metadata": {},
   "outputs": [],
   "source": []
  }
 ],
 "metadata": {
  "kernelspec": {
   "display_name": "Python 3",
   "language": "python",
   "name": "python3"
  },
  "language_info": {
   "codemirror_mode": {
    "name": "ipython",
    "version": 3
   },
   "file_extension": ".py",
   "mimetype": "text/x-python",
   "name": "python",
   "nbconvert_exporter": "python",
   "pygments_lexer": "ipython3",
   "version": "3.6.9"
  }
 },
 "nbformat": 4,
 "nbformat_minor": 4
}
